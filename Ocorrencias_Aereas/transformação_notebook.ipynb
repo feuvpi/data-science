{
 "cells": [
  {
   "cell_type": "code",
   "execution_count": null,
   "id": "a1f0f4da",
   "metadata": {},
   "outputs": [],
   "source": [
    "import pandas as pd\n",
    "import pandera as pa\n"
   ]
  },
  {
   "cell_type": "code",
   "execution_count": null,
   "id": "810c747a",
   "metadata": {},
   "outputs": [],
   "source": [
    "## fazer carregamento do arquivo csv. Pandas ira retonar um Dataframe\n",
    "df = pd.read_csv(\"ocorrencia3.csv\", sep=\",\", infer_datetime_format=True, parse_dates=['ocorrencia_dia'], dayfirst=True)\n",
    "df.head(10)"
   ]
  }
 ],
 "metadata": {
  "kernelspec": {
   "display_name": "Python 3 (ipykernel)",
   "language": "python",
   "name": "python3"
  },
  "language_info": {
   "codemirror_mode": {
    "name": "ipython",
    "version": 3
   },
   "file_extension": ".py",
   "mimetype": "text/x-python",
   "name": "python",
   "nbconvert_exporter": "python",
   "pygments_lexer": "ipython3",
   "version": "3.9.12"
  }
 },
 "nbformat": 4,
 "nbformat_minor": 5
}
